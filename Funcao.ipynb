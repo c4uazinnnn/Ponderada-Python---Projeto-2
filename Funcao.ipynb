{
 "cells": [
  {
   "cell_type": "code",
   "execution_count": 16,
   "id": "db1b037f",
   "metadata": {},
   "outputs": [],
   "source": [
    "import pandas as pd\n",
    "\n",
    "column_names = ['age','workclass','fnlwgt','education','education-num','marital-status','occupation','relationship','race','sex','capital-gain','capital-loss','hours-per-week','native-country','salary']\n",
    "df = pd.read_csv('adult.data.csv', header=None, names=column_names, skipinitialspace=True)\n"
   ]
  },
  {
   "cell_type": "code",
   "execution_count": 17,
   "id": "65f38000",
   "metadata": {},
   "outputs": [],
   "source": [
    "def calculate_demographic_data(print_data=True):\n",
    "    race_count = df['race'].value_counts()\n",
    "    \n",
    "    average_age_men = round(df[df['sex'] == 'Male']['age'].mean(), 1)\n",
    "    \n",
    "    percentage_bachelors = round((df['education'] == 'Bachelors').mean() * 100, 1)\n",
    "    \n",
    "    higher_edu = df['education'].isin(['Bachelors', 'Masters', 'Doctorate'])\n",
    "    higher_education_rich = round((df[higher_edu]['salary'] == '>50K').mean() * 100, 1)\n",
    "    lower_education_rich = round((df[~higher_edu]['salary'] == '>50K').mean() * 100, 1)\n",
    "    \n",
    "    min_work_hours = df['hours-per-week'].min()\n",
    "    \n",
    "    num_min_workers = df[df['hours-per-week'] == min_work_hours].shape[0]\n",
    "    rich_percentage = round(\n",
    "        (df[(df['hours-per-week'] == min_work_hours) & (df['salary'] == '>50K')].shape[0] / num_min_workers) * 100,\n",
    "        1\n",
    "    )\n",
    "    \n",
    "    country_earn = df[df['salary'] == '>50K'].groupby('native-country').size() / df.groupby('native-country').size() * 100\n",
    "    highest_earning_country = country_earn.idxmax()\n",
    "    highest_earning_country_percentage = round(country_earn.max(), 1)\n",
    "    \n",
    "    india_top_occ = df[(df['salary'] == '>50K') & (df['native-country'] == 'India')]['occupation'].value_counts().idxmax()\n",
    "    \n",
    "    if print_data:\n",
    "        print(\"Number of each race:\")\n",
    "        print(race_count.to_string())\n",
    "        print(\"Average age of men:\", average_age_men)\n",
    "        print(f\"Percentage with Bachelors degrees: {percentage_bachelors}%\")\n",
    "        print(f\"Percentage with higher education that earn >50K: {higher_education_rich}%\")\n",
    "        print(f\"Percentage without higher education that earn >50K: {lower_education_rich}%\")\n",
    "        print(f\"Min work time: {min_work_hours} hours/week\")\n",
    "        print(f\"Percentage of rich among those who work fewest hours: {rich_percentage}%\")\n",
    "        print(\"Country with highest percentage of rich:\", highest_earning_country)\n",
    "        print(f\"Highest percentage of rich people in country: {highest_earning_country_percentage}%\")\n",
    "        print(\"Top occupations in India:\", india_top_occ)\n",
    "    \n",
    "    return {\n",
    "        'race_count': race_count,\n",
    "        'average_age_men': average_age_men,\n",
    "        'percentage_bachelors': percentage_bachelors,\n",
    "        'higher_education_rich': higher_education_rich,\n",
    "        'lower_education_rich': lower_education_rich,\n",
    "        'min_work_hours': min_work_hours,\n",
    "        'rich_percentage': rich_percentage,\n",
    "        'highest_earning_country': highest_earning_country,\n",
    "        'highest_earning_country_percentage': highest_earning_country_percentage,\n",
    "        'top_IN_occupation': india_top_occ\n",
    "    }\n"
   ]
  },
  {
   "cell_type": "code",
   "execution_count": 18,
   "id": "c1f0029a",
   "metadata": {},
   "outputs": [
    {
     "name": "stdout",
     "output_type": "stream",
     "text": [
      "Number of each race:\n",
      "race\n",
      "White                 27816\n",
      "Black                  3124\n",
      "Asian-Pac-Islander     1039\n",
      "Amer-Indian-Eskimo      311\n",
      "Other                   271\n",
      "Average age of men: 39.4\n",
      "Percentage with Bachelors degrees: 16.4%\n",
      "Percentage with higher education that earn >50K: 46.5%\n",
      "Percentage without higher education that earn >50K: 17.4%\n",
      "Min work time: 1 hours/week\n",
      "Percentage of rich among those who work fewest hours: 10.0%\n",
      "Country with highest percentage of rich: Iran\n",
      "Highest percentage of rich people in country: 41.9%\n",
      "Top occupations in India: Prof-specialty\n"
     ]
    }
   ],
   "source": [
    "result = calculate_demographic_data()\n"
   ]
  }
 ],
 "metadata": {
  "kernelspec": {
   "display_name": "Python 3",
   "language": "python",
   "name": "python3"
  },
  "language_info": {
   "codemirror_mode": {
    "name": "ipython",
    "version": 3
   },
   "file_extension": ".py",
   "mimetype": "text/x-python",
   "name": "python",
   "nbconvert_exporter": "python",
   "pygments_lexer": "ipython3",
   "version": "3.13.5"
  }
 },
 "nbformat": 4,
 "nbformat_minor": 5
}
